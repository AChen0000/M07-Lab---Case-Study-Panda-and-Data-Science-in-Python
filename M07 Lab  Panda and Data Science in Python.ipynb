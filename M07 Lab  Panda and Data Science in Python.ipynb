{
 "cells": [
  {
   "cell_type": "code",
   "execution_count": null,
   "id": "a8fde1f9-61eb-4142-b197-b672c7c8f0ef",
   "metadata": {},
   "outputs": [],
   "source": [
    "import pandas as pd\n",
    "\n"
   ]
  },
  {
   "cell_type": "code",
   "execution_count": null,
   "id": "02d14439-cd38-4d3c-a7c4-dd57e0e873d2",
   "metadata": {},
   "outputs": [],
   "source": [
    "# Load the dataset from a CSV file\n",
    "df = pd.read_csv('telco_churn.csv')\n",
    "\n"
   ]
  },
  {
   "cell_type": "code",
   "execution_count": null,
   "id": "6944c438-2c9a-4048-8458-ce59a4ca451d",
   "metadata": {},
   "outputs": [],
   "source": [
    "# Explore the data\n",
    "print(\"First 5 rows:\")\n",
    "print(df.head())\n",
    "\n",
    "print(\"\\nDataset dimensions (rows, columns):\")\n",
    "print(df.shape)\n",
    "\n",
    "print(\"\\nData types and missing values:\")\n",
    "print(df.info())\n"
   ]
  },
  {
   "cell_type": "code",
   "execution_count": null,
   "id": "455d3925-2d30-42b0-9cb9-26fcd19148e4",
   "metadata": {},
   "outputs": [],
   "source": [
    "# Data Cleaning (Hypothetical)\n",
    "# For example, you can drop rows with missing values\n",
    "df_cleaned = df.dropna()\n",
    "\n"
   ]
  },
  {
   "cell_type": "code",
   "execution_count": null,
   "id": "96d24fe6-652d-4b18-be5c-fb23052533f6",
   "metadata": {},
   "outputs": [],
   "source": [
    "# Data Exploration\n",
    "# Calculate basic statistics for numeric columns\n",
    "print(\"\\nBasic statistics:\")\n",
    "print(df.describe())\n",
    "\n"
   ]
  },
  {
   "cell_type": "code",
   "execution_count": null,
   "id": "0e9c468c-c2cf-496c-8679-e5e02e84f8d8",
   "metadata": {},
   "outputs": [],
   "source": [
    "# Data Selection\n",
    "# Select specific columns\n",
    "selected_columns = df[['State', 'AreaCode']]\n",
    "\n"
   ]
  },
  {
   "cell_type": "code",
   "execution_count": null,
   "id": "afc7aa69-c41f-4964-9196-e9aff83a19f5",
   "metadata": {},
   "outputs": [],
   "source": [
    "# Filtering Data\n",
    "# Filter rows based on a condition\n",
    "filtered_data = df[df['International plan'] == 'No']"
   ]
  },
  {
   "cell_type": "code",
   "execution_count": 1,
   "id": "23a244b4-ef50-4bc1-9703-f6ce160a1bfd",
   "metadata": {},
   "outputs": [
    {
     "ename": "NameError",
     "evalue": "name 'df' is not defined",
     "output_type": "error",
     "traceback": [
      "\u001b[0;31m---------------------------------------------------------------------------\u001b[0m",
      "\u001b[0;31mNameError\u001b[0m                                 Traceback (most recent call last)",
      "Cell \u001b[0;32mIn[1], line 3\u001b[0m\n\u001b[1;32m      1\u001b[0m \u001b[38;5;66;03m# Grouping and Aggregation\u001b[39;00m\n\u001b[1;32m      2\u001b[0m \u001b[38;5;66;03m# Group data by a specific column and calculate the mean\u001b[39;00m\n\u001b[0;32m----> 3\u001b[0m grouped_data \u001b[38;5;241m=\u001b[39m df\u001b[38;5;241m.\u001b[39mgroupby(\u001b[38;5;124m'\u001b[39m\u001b[38;5;124mInternational plan\u001b[39m\u001b[38;5;124m'\u001b[39m)\u001b[38;5;241m.\u001b[39mmean()\n",
      "\u001b[0;31mNameError\u001b[0m: name 'df' is not defined"
     ]
    }
   ],
   "source": [
    "# Grouping and Aggregation\n",
    "# Group data by a specific column and calculate the mean\n",
    "grouped_data = df.groupby('International plan').mean()\n"
   ]
  },
  {
   "cell_type": "code",
   "execution_count": null,
   "id": "132db219-c1d4-46e5-866b-2934bb7d6f1e",
   "metadata": {},
   "outputs": [],
   "source": []
  }
 ],
 "metadata": {
  "kernelspec": {
   "display_name": "anaconda-panel-2023.05-py310",
   "language": "python",
   "name": "conda-env-anaconda-panel-2023.05-py310-py"
  },
  "language_info": {
   "codemirror_mode": {
    "name": "ipython",
    "version": 3
   },
   "file_extension": ".py",
   "mimetype": "text/x-python",
   "name": "python",
   "nbconvert_exporter": "python",
   "pygments_lexer": "ipython3",
   "version": "3.11.4"
  }
 },
 "nbformat": 4,
 "nbformat_minor": 5
}
